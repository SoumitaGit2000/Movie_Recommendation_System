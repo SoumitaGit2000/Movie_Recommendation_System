{
 "cells": [
  {
   "cell_type": "code",
   "execution_count": null,
   "id": "20dcca23-21ed-4a64-a747-2d17f48f3e8f",
   "metadata": {},
   "outputs": [],
   "source": []
  },
  {
   "cell_type": "code",
   "execution_count": 1,
   "id": "581d45d5-8f6a-43ca-a5e6-3b7eb206a427",
   "metadata": {
    "scrolled": true
   },
   "outputs": [],
   "source": [
    "import numpy as np\n",
    "import pandas as pd"
   ]
  },
  {
   "cell_type": "code",
   "execution_count": 2,
   "id": "c85ac738-c850-48ef-bbf6-c5205c470362",
   "metadata": {},
   "outputs": [],
   "source": [
    "movies = pd.read_csv('tmdb_5000_movies.csv')\n",
    "credits = pd.read_csv('tmdb_5000_credits.csv')"
   ]
  },
  {
   "cell_type": "code",
   "execution_count": 3,
   "id": "efa2fa06-0f98-436d-93d3-0ec623644acc",
   "metadata": {},
   "outputs": [
    {
     "name": "stdout",
     "output_type": "stream",
     "text": [
      "<class 'pandas.core.frame.DataFrame'>\n",
      "RangeIndex: 4809 entries, 0 to 4808\n",
      "Data columns (total 23 columns):\n",
      " #   Column                Non-Null Count  Dtype  \n",
      "---  ------                --------------  -----  \n",
      " 0   budget                4809 non-null   int64  \n",
      " 1   genres                4809 non-null   object \n",
      " 2   homepage              1713 non-null   object \n",
      " 3   id                    4809 non-null   int64  \n",
      " 4   keywords              4809 non-null   object \n",
      " 5   original_language     4809 non-null   object \n",
      " 6   original_title        4809 non-null   object \n",
      " 7   overview              4806 non-null   object \n",
      " 8   popularity            4809 non-null   float64\n",
      " 9   production_companies  4809 non-null   object \n",
      " 10  production_countries  4809 non-null   object \n",
      " 11  release_date          4808 non-null   object \n",
      " 12  revenue               4809 non-null   int64  \n",
      " 13  runtime               4807 non-null   float64\n",
      " 14  spoken_languages      4809 non-null   object \n",
      " 15  status                4809 non-null   object \n",
      " 16  tagline               3965 non-null   object \n",
      " 17  title                 4809 non-null   object \n",
      " 18  vote_average          4809 non-null   float64\n",
      " 19  vote_count            4809 non-null   int64  \n",
      " 20  movie_id              4809 non-null   int64  \n",
      " 21  cast                  4809 non-null   object \n",
      " 22  crew                  4809 non-null   object \n",
      "dtypes: float64(3), int64(5), object(15)\n",
      "memory usage: 864.2+ KB\n"
     ]
    },
    {
     "data": {
      "text/plain": [
       "'[{\"id\": 28, \"name\": \"Action\"}, {\"id\": 12, \"name\": \"Adventure\"}, {\"id\": 14, \"name\": \"Fantasy\"}, {\"id\": 878, \"name\": \"Science Fiction\"}]'"
      ]
     },
     "execution_count": 3,
     "metadata": {},
     "output_type": "execute_result"
    }
   ],
   "source": [
    "movies = movies.merge(credits,on=\"title\")\n",
    "movies.info()\n",
    "movies = movies[['id','genres','keywords','original_language','original_title','overview','production_companies','cast','crew']]\n",
    "movies.isnull().sum()\n",
    "movies.dropna(inplace = True)\n",
    "movies.duplicated().sum()\n",
    "movies.iloc[0].genres"
   ]
  },
  {
   "cell_type": "code",
   "execution_count": 4,
   "id": "2cd15c0e-2955-4a24-9314-dc20f695d69c",
   "metadata": {},
   "outputs": [],
   "source": [
    "import ast\n",
    "def converter(obj):\n",
    "    l=[]\n",
    "    for i in ast.literal_eval(obj):\n",
    "        l.append(i['name'])\n",
    "    return l\n",
    "movies['genres'] = movies['genres'].apply(converter)\n",
    "movies['keywords'] = movies['keywords'].apply(converter)\n",
    "movies['production_companies'] = movies['production_companies'].apply(converter)"
   ]
  },
  {
   "cell_type": "code",
   "execution_count": 5,
   "id": "8547807d-62da-42ad-8601-7193870ec27f",
   "metadata": {},
   "outputs": [],
   "source": [
    "def converter2(obj):\n",
    "    l=[]\n",
    "    for i in ast.literal_eval(obj):\n",
    "        if i['job']=='Director':\n",
    "            l.append(i['name'])\n",
    "    return l\n",
    "movies['crew'] = movies['crew'].apply(converter2)"
   ]
  },
  {
   "cell_type": "code",
   "execution_count": 6,
   "id": "cf9a56b5-2137-444d-b75f-f374dd56185f",
   "metadata": {},
   "outputs": [],
   "source": [
    "import ast\n",
    "def converter3(obj):\n",
    "    l=[]\n",
    "    c=0\n",
    "    for i in ast.literal_eval(obj):\n",
    "        if c<3:\n",
    "            l.append(i['name'])\n",
    "            c+=1\n",
    "        else:\n",
    "            break\n",
    "    return l\n",
    "movies['cast'] = movies['cast'].apply(converter3)\n",
    "movies['overview'] = movies['overview'].apply(lambda x:x.split())"
   ]
  },
  {
   "cell_type": "code",
   "execution_count": 7,
   "id": "76e8d20e-b6e7-4d3a-a6ed-da1fab36493a",
   "metadata": {},
   "outputs": [],
   "source": [
    "movies['genres'] = movies['genres'].apply(lambda x: [i.replace(\" \",\"\") for i in x])\n",
    "movies['keywords'] = movies['keywords'].apply(lambda x: [i.replace(\" \",\"\") for i in x])\n",
    "movies['cast'] = movies['cast'].apply(lambda x: [i.replace(\" \",\"\") for i in x])\n",
    "movies['crew'] = movies['crew'].apply(lambda x: [i.replace(\" \",\"\") for i in x])\n",
    "\n",
    "movies['tags'] = movies['overview'] + movies['genres'] + movies['cast'] + movies['crew'] + movies['keywords'] ## concatinating columns\n",
    "\n",
    "new_df = movies[['id','original_title','tags']]\n",
    "##new_df = new_df.drop('original_title', axis=1) ## droping same name column\n",
    "\n",
    "#new_df['tags'] = new_df['tags'].str.lower()# converting list items into lowercase"
   ]
  },
  {
   "cell_type": "code",
   "execution_count": 8,
   "id": "1dd16026-e5ed-47cc-8ac2-c1edb84ff08c",
   "metadata": {},
   "outputs": [
    {
     "name": "stderr",
     "output_type": "stream",
     "text": [
      "C:\\Users\\SOUMITA\\AppData\\Local\\Temp\\ipykernel_4148\\344326056.py:1: SettingWithCopyWarning: \n",
      "A value is trying to be set on a copy of a slice from a DataFrame.\n",
      "Try using .loc[row_indexer,col_indexer] = value instead\n",
      "\n",
      "See the caveats in the documentation: https://pandas.pydata.org/pandas-docs/stable/user_guide/indexing.html#returning-a-view-versus-a-copy\n",
      "  new_df['tags'] = new_df['tags'].apply(lambda x:\" \".join(x))\n"
     ]
    }
   ],
   "source": [
    "\n",
    "new_df['tags'] = new_df['tags'].apply(lambda x:\" \".join(x))\n",
    "new_df.loc[:,'tags'] = new_df.loc[:,'tags'].str.lower()\n"
   ]
  },
  {
   "cell_type": "code",
   "execution_count": 9,
   "id": "811cc880-d64c-40f0-af32-938d9e240069",
   "metadata": {},
   "outputs": [],
   "source": [
    "from nltk.stem.porter import PorterStemmer\n",
    "ps = PorterStemmer()"
   ]
  },
  {
   "cell_type": "code",
   "execution_count": 10,
   "id": "4776f485-751e-4e26-8b39-02eef2d649ca",
   "metadata": {},
   "outputs": [
    {
     "name": "stderr",
     "output_type": "stream",
     "text": [
      "C:\\Users\\SOUMITA\\AppData\\Local\\Temp\\ipykernel_4148\\1205700773.py:7: SettingWithCopyWarning: \n",
      "A value is trying to be set on a copy of a slice from a DataFrame.\n",
      "Try using .loc[row_indexer,col_indexer] = value instead\n",
      "\n",
      "See the caveats in the documentation: https://pandas.pydata.org/pandas-docs/stable/user_guide/indexing.html#returning-a-view-versus-a-copy\n",
      "  new_df['tags'] = new_df['tags'].apply(stem)\n"
     ]
    }
   ],
   "source": [
    "def stem(text):\n",
    "    y = []\n",
    "    for i in text.split():\n",
    "        y.append(ps.stem(i))\n",
    "    return \" \".join(y)\n",
    "\n",
    "new_df['tags'] = new_df['tags'].apply(stem)"
   ]
  },
  {
   "cell_type": "code",
   "execution_count": 11,
   "id": "9651cadd-2eba-4941-9a6c-65a3c30df01f",
   "metadata": {},
   "outputs": [],
   "source": [
    "### Vectorization on tag column ####\n",
    "\n",
    "from sklearn.feature_extraction.text import CountVectorizer\n",
    "cv = CountVectorizer(max_features = 5000, stop_words = 'english')\n",
    "vectors = cv.fit_transform(new_df['tags']).toarray() ## converting into numpy array\n",
    "feature = cv.get_feature_names_out()"
   ]
  },
  {
   "cell_type": "code",
   "execution_count": 12,
   "id": "659cc35c-e83d-42f4-ab30-b25e86dc4717",
   "metadata": {},
   "outputs": [
    {
     "data": {
      "text/plain": [
       "array([1.        , 0.08346223, 0.0860309 , ..., 0.04499213, 0.        ,\n",
       "       0.        ])"
      ]
     },
     "execution_count": 12,
     "metadata": {},
     "output_type": "execute_result"
    }
   ],
   "source": [
    "from sklearn.metrics.pairwise import cosine_similarity\n",
    "similarity = cosine_similarity(vectors)\n",
    "similarity[0] ## here similarity of 1st movie with other movies is compairing"
   ]
  },
  {
   "cell_type": "code",
   "execution_count": 16,
   "id": "556aace2-2021-4ec1-97e1-61466f640ea8",
   "metadata": {},
   "outputs": [],
   "source": [
    "def recommend(movie):\n",
    "    movie_index = new_df[new_df['original_title'] == movie].index[0]\n",
    "    distence = similarity[movie_index]\n",
    "    movie_list = sorted(list(enumerate(distence)),reverse =True,key=lambda x:x[1])[1:6]\n",
    "\n",
    "    for i in movie_list:\n",
    "        print(new_df.iloc[i[0]].id)\n",
    "        print(new_df.iloc[i[0]].original_title)\n",
    "        print(new_df.iloc[i[0]].tags)\n",
    "        "
   ]
  },
  {
   "cell_type": "code",
   "execution_count": 17,
   "id": "b0748c9f-fee7-43fb-96fc-440726900696",
   "metadata": {},
   "outputs": [
    {
     "name": "stdout",
     "output_type": "stream",
     "text": [
      "440\n",
      "Aliens vs Predator: Requiem\n",
      "a sequel to 2004' alien vs. predator, the icon creatur from two of the scariest film franchis in movi histori wage their most brutal battl ever - in our own backyard. the small town of gunnison, colorado becom a war zone between two of the deadliest extra-terrestri life form - the alien and the predator. when a predat scout ship crash-land in the hill outsid the town, alien facehugg and a hybrid alien/pred are releas and begin to terror the town. fantasi action sciencefict thriller horror stevenpasqual reikoaylesworth johnortiz colinstraus gregstraus predat nationalguard hybrid alien morgu alienpossess triangl infest xenomorph\n",
      "679\n",
      "Aliens\n",
      "when ripley' lifepod is found by a salvag crew over 50 year later, she find that terra-form are on the veri planet they found the alien species. when the compani send a famili of colonist out to investig her story, all contact is lost with the planet and colonists. they enlist ripley and the coloni marin to return and search for answers. horror action thriller sciencefict sigourneyweav michaelbiehn jamesremar jamescameron android extraterrestrialtechnolog spacemarin spaceman cryogen vacuum spacecoloni warriorwoman settler spacetravel coloni alien xenomorph\n",
      "270938\n",
      "Falcon Rising\n",
      "chapman is an ex-marin in brazil' slums, battl the yakuza outfit who attack hi sister and left her for dead. adventur action michaeljaiwhit nealmcdonough lateefcrowd erniebarbarash yakuza marin fight\n",
      "602\n",
      "Independence Day\n",
      "on juli 2, a giant alien mothership enter orbit around earth and deploy sever dozen saucer-shap 'destroyer' spacecraft that quickli lay wast to major citi around the planet. on juli 3, the unit state conduct a coordin counterattack that fails. on juli 4, a plan is devis to gain access to the interior of the alien mothership in space, in order to plant a nuclear missile. action adventur sciencefict willsmith billpullman jeffgoldblum rolandemmerich spacecraft patriot countdown independ invas war ufo extraterrestri spaceship alien battl\n",
      "7450\n",
      "Titan A.E.\n",
      "a young man find out that he hold the key to restor hope and ensur surviv for the human race, while an alien speci call the dredg are bent on mankind' destruction. anim action sciencefict famili adventur mattdamon billpullman drewbarrymor garygoldman donbluth monster galaxi dystopia space alien anim mission\n"
     ]
    }
   ],
   "source": [
    "recommend('Avatar')"
   ]
  },
  {
   "cell_type": "code",
   "execution_count": 14,
   "id": "52d3cbcd-ecca-41a4-a1eb-4a876f10c9c0",
   "metadata": {},
   "outputs": [],
   "source": [
    "import pickle\n",
    "pickle.dump(new_df.to_dict(),open('movies_dictionary.pkl','wb'))\n",
    "pickle.dump(similarity,open('similarity.pkl','wb'))"
   ]
  },
  {
   "cell_type": "code",
   "execution_count": 15,
   "id": "5a189717-7f65-4ca1-a3f6-c82b85bc9485",
   "metadata": {},
   "outputs": [
    {
     "data": {
      "text/plain": [
       "0"
      ]
     },
     "execution_count": 15,
     "metadata": {},
     "output_type": "execute_result"
    }
   ],
   "source": [
    "new_df[new_df['original_title'] == 'Avatar'].index[0]"
   ]
  },
  {
   "cell_type": "code",
   "execution_count": null,
   "id": "0210d1fa-8bc4-41a4-bf9d-0537dc439dab",
   "metadata": {},
   "outputs": [],
   "source": []
  },
  {
   "cell_type": "code",
   "execution_count": null,
   "id": "038ded73-c2a6-488e-b9f5-fc7692b73512",
   "metadata": {},
   "outputs": [],
   "source": []
  }
 ],
 "metadata": {
  "kernelspec": {
   "display_name": "Python (tf-environment)",
   "language": "python",
   "name": "tf-environment"
  },
  "language_info": {
   "codemirror_mode": {
    "name": "ipython",
    "version": 3
   },
   "file_extension": ".py",
   "mimetype": "text/x-python",
   "name": "python",
   "nbconvert_exporter": "python",
   "pygments_lexer": "ipython3",
   "version": "3.11.7"
  }
 },
 "nbformat": 4,
 "nbformat_minor": 5
}
